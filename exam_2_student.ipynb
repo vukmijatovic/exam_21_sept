{
 "cells": [
  {
   "cell_type": "markdown",
   "metadata": {},
   "source": [
    "# Exam R\n",
    "Mark Klik & Misja Mikkers\n",
    "\n",
    "# Introduction\n",
    "\n",
    "Before you turn this problem in, make sure everything runs as expected. First, **restart the kernel** (in the menubar, select Kernel$\\rightarrow$Restart) and then **run all cells** (in the menubar, select Cell$\\rightarrow$Run All).\n",
    "\n",
    "Make sure you fill in any place that says `YOUR CODE HERE` or \"YOUR ANSWER HERE\", as well as your name and collaborators below:\n",
    "\n"
   ]
  },
  {
   "cell_type": "code",
   "execution_count": 1,
   "metadata": {},
   "outputs": [],
   "source": [
    "NAME = \"VUK MIJATOVIC, u699429, snr: 2009138\"\n"
   ]
  },
  {
   "cell_type": "markdown",
   "metadata": {},
   "source": [
    "Fill in the cell above to provide us with your name and student number, like\n",
    "\n",
    "NAME = \"Adam Smith, #student number#\"\n",
    "\n",
    "where you replace \"#student number#\" with your ... (very good!)\n",
    "\n",
    "Unfortunately, you are not allowed to work with \"COLLABORATORS\" in this exam.\n",
    "\n",
    "## exam September 21th, 2018\n",
    "\n",
    "With this R part of the exam you can earn at max. 4 points.\n",
    "\n",
    "In the first cell of the notebook, give us your name and student number in the way indicated above.\n",
    "\n",
    "Fill in the notebook (see below for code cells and text cells that you need to fill in).\n",
    "\n",
    "If you look at the menus above (File, Edit, View etc.), there is one called \"Cell\". If you click on this, you can change the \"Cell Type\". Choose \"Code\" when you are typing python or R code. Choose \"Markdown\" when you are typing, well, markdown.\n",
    "\n",
    "When you finish the notebook, make sure that you save it with the output of your code included.\n",
    "\n",
    "Then put it on github, e.g. by dragging it onto github (see instructions below).\n",
    "\n",
    "Finally, add a link to your README file with the name of this exam: \"Exam R September 7, 2018\".\n",
    "\n",
    "# Packages\n",
    "\n",
    "You will need the following packages for this exam."
   ]
  },
  {
   "cell_type": "code",
   "execution_count": 1,
   "metadata": {},
   "outputs": [
    {
     "name": "stderr",
     "output_type": "stream",
     "text": [
      "-- Attaching packages --------------------------------------- tidyverse 1.2.1 --\n",
      "v ggplot2 2.2.1     v purrr   0.2.4\n",
      "v tibble  1.4.1     v dplyr   0.7.4\n",
      "v tidyr   0.7.2     v stringr 1.2.0\n",
      "v readr   1.1.1     v forcats 0.2.0\n",
      "-- Conflicts ------------------------------------------ tidyverse_conflicts() --\n",
      "x dplyr::filter() masks stats::filter()\n",
      "x dplyr::lag()    masks stats::lag()\n"
     ]
    }
   ],
   "source": [
    "library(tidyverse)"
   ]
  },
  {
   "cell_type": "markdown",
   "metadata": {},
   "source": [
    "# Assignment 1\n",
    "\n",
    "## Data\n",
    "\n",
    "Please read in \"Medicaid.csv\" and check the structure.\n",
    "\n",
    "If needed change the variables Recipients and Total_costs into a numeric variable.\n",
    "\n",
    "Hint: don't forget you cannot change a factor in a numeric variable directly!\n",
    "\n"
   ]
  },
  {
   "cell_type": "code",
   "execution_count": 3,
   "metadata": {},
   "outputs": [
    {
     "data": {
      "text/html": [
       "<table>\n",
       "<thead><tr><th scope=col>Year</th><th scope=col>Recipients</th><th scope=col>Total_costs</th></tr></thead>\n",
       "<tbody>\n",
       "\t<tr><td>2003       </td><td>4267573    </td><td>36142075737</td></tr>\n",
       "\t<tr><td>2004       </td><td>4594667    </td><td>38926018824</td></tr>\n",
       "\t<tr><td>2005       </td><td>4733617    </td><td>40803778540</td></tr>\n",
       "\t<tr><td>2006       </td><td>4730167    </td><td>40712547369</td></tr>\n",
       "\t<tr><td>2007       </td><td>4622782    </td><td>42127412366</td></tr>\n",
       "\t<tr><td>2008       </td><td>4657242    </td><td>44239141758</td></tr>\n",
       "</tbody>\n",
       "</table>\n"
      ],
      "text/latex": [
       "\\begin{tabular}{r|lll}\n",
       " Year & Recipients & Total\\_costs\\\\\n",
       "\\hline\n",
       "\t 2003        & 4267573     & 36142075737\\\\\n",
       "\t 2004        & 4594667     & 38926018824\\\\\n",
       "\t 2005        & 4733617     & 40803778540\\\\\n",
       "\t 2006        & 4730167     & 40712547369\\\\\n",
       "\t 2007        & 4622782     & 42127412366\\\\\n",
       "\t 2008        & 4657242     & 44239141758\\\\\n",
       "\\end{tabular}\n"
      ],
      "text/markdown": [
       "\n",
       "Year | Recipients | Total_costs | \n",
       "|---|---|---|---|---|---|\n",
       "| 2003        | 4267573     | 36142075737 | \n",
       "| 2004        | 4594667     | 38926018824 | \n",
       "| 2005        | 4733617     | 40803778540 | \n",
       "| 2006        | 4730167     | 40712547369 | \n",
       "| 2007        | 4622782     | 42127412366 | \n",
       "| 2008        | 4657242     | 44239141758 | \n",
       "\n",
       "\n"
      ],
      "text/plain": [
       "  Year Recipients Total_costs\n",
       "1 2003 4267573    36142075737\n",
       "2 2004 4594667    38926018824\n",
       "3 2005 4733617    40803778540\n",
       "4 2006 4730167    40712547369\n",
       "5 2007 4622782    42127412366\n",
       "6 2008 4657242    44239141758"
      ]
     },
     "metadata": {},
     "output_type": "display_data"
    },
    {
     "name": "stdout",
     "output_type": "stream",
     "text": [
      "'data.frame':\t13 obs. of  3 variables:\n",
      " $ Year       : int  2003 2004 2005 2006 2007 2008 2009 2010 2011 2012 ...\n",
      " $ Recipients : int  4267573 4594667 4733617 4730167 4622782 4657242 4911408 5212444 5398722 5598237 ...\n",
      " $ Total_costs: num  3.61e+10 3.89e+10 4.08e+10 4.07e+10 4.21e+10 ...\n"
     ]
    }
   ],
   "source": [
    "medicaid <- read.csv2('C:\\\\Users\\\\Vuk\\\\Documents\\\\Sourcedata\\\\Medicaid.csv') \n",
    "head(medicaid)\n",
    "str(medicaid)"
   ]
  },
  {
   "cell_type": "code",
   "execution_count": 15,
   "metadata": {},
   "outputs": [
    {
     "data": {
      "text/html": [
       "<table>\n",
       "<thead><tr><th scope=col>Year</th><th scope=col>Recipients</th><th scope=col>Total_costs</th><th scope=col>Cost_per_Recipient</th><th scope=col>Recipients_num</th></tr></thead>\n",
       "<tbody>\n",
       "\t<tr><td>2003       </td><td>4267573    </td><td>36142075737</td><td>8469       </td><td>4267573    </td></tr>\n",
       "\t<tr><td>2004       </td><td>4594667    </td><td>38926018824</td><td>8472       </td><td>4594667    </td></tr>\n",
       "\t<tr><td>2005       </td><td>4733617    </td><td>40803778540</td><td>8620       </td><td>4733617    </td></tr>\n",
       "\t<tr><td>2006       </td><td>4730167    </td><td>40712547369</td><td>8607       </td><td>4730167    </td></tr>\n",
       "\t<tr><td>2007       </td><td>4622782    </td><td>42127412366</td><td>9113       </td><td>4622782    </td></tr>\n",
       "\t<tr><td>2008       </td><td>4657242    </td><td>44239141758</td><td>9499       </td><td>4657242    </td></tr>\n",
       "\t<tr><td>2009       </td><td>4911408    </td><td>47021820192</td><td>9574       </td><td>4911408    </td></tr>\n",
       "\t<tr><td>2010       </td><td>5212444    </td><td>49221108692</td><td>9443       </td><td>5212444    </td></tr>\n",
       "\t<tr><td>2011       </td><td>5398722    </td><td>49975969554</td><td>9257       </td><td>5398722    </td></tr>\n",
       "\t<tr><td>2012       </td><td>5598237    </td><td>49734737508</td><td>8884       </td><td>5598237    </td></tr>\n",
       "\t<tr><td>2013       </td><td>5805282    </td><td>49461002640</td><td>8520       </td><td>5805282    </td></tr>\n",
       "\t<tr><td>2014       </td><td>6327708    </td><td>52595908896</td><td>8312       </td><td>6327708    </td></tr>\n",
       "\t<tr><td>2015       </td><td>6700524    </td><td>55647851820</td><td>8305       </td><td>6700524    </td></tr>\n",
       "</tbody>\n",
       "</table>\n"
      ],
      "text/latex": [
       "\\begin{tabular}{r|lllll}\n",
       " Year & Recipients & Total\\_costs & Cost\\_per\\_Recipient & Recipients\\_num\\\\\n",
       "\\hline\n",
       "\t 2003        & 4267573     & 36142075737 & 8469        & 4267573    \\\\\n",
       "\t 2004        & 4594667     & 38926018824 & 8472        & 4594667    \\\\\n",
       "\t 2005        & 4733617     & 40803778540 & 8620        & 4733617    \\\\\n",
       "\t 2006        & 4730167     & 40712547369 & 8607        & 4730167    \\\\\n",
       "\t 2007        & 4622782     & 42127412366 & 9113        & 4622782    \\\\\n",
       "\t 2008        & 4657242     & 44239141758 & 9499        & 4657242    \\\\\n",
       "\t 2009        & 4911408     & 47021820192 & 9574        & 4911408    \\\\\n",
       "\t 2010        & 5212444     & 49221108692 & 9443        & 5212444    \\\\\n",
       "\t 2011        & 5398722     & 49975969554 & 9257        & 5398722    \\\\\n",
       "\t 2012        & 5598237     & 49734737508 & 8884        & 5598237    \\\\\n",
       "\t 2013        & 5805282     & 49461002640 & 8520        & 5805282    \\\\\n",
       "\t 2014        & 6327708     & 52595908896 & 8312        & 6327708    \\\\\n",
       "\t 2015        & 6700524     & 55647851820 & 8305        & 6700524    \\\\\n",
       "\\end{tabular}\n"
      ],
      "text/markdown": [
       "\n",
       "Year | Recipients | Total_costs | Cost_per_Recipient | Recipients_num | \n",
       "|---|---|---|---|---|---|---|---|---|---|---|---|---|\n",
       "| 2003        | 4267573     | 36142075737 | 8469        | 4267573     | \n",
       "| 2004        | 4594667     | 38926018824 | 8472        | 4594667     | \n",
       "| 2005        | 4733617     | 40803778540 | 8620        | 4733617     | \n",
       "| 2006        | 4730167     | 40712547369 | 8607        | 4730167     | \n",
       "| 2007        | 4622782     | 42127412366 | 9113        | 4622782     | \n",
       "| 2008        | 4657242     | 44239141758 | 9499        | 4657242     | \n",
       "| 2009        | 4911408     | 47021820192 | 9574        | 4911408     | \n",
       "| 2010        | 5212444     | 49221108692 | 9443        | 5212444     | \n",
       "| 2011        | 5398722     | 49975969554 | 9257        | 5398722     | \n",
       "| 2012        | 5598237     | 49734737508 | 8884        | 5598237     | \n",
       "| 2013        | 5805282     | 49461002640 | 8520        | 5805282     | \n",
       "| 2014        | 6327708     | 52595908896 | 8312        | 6327708     | \n",
       "| 2015        | 6700524     | 55647851820 | 8305        | 6700524     | \n",
       "\n",
       "\n"
      ],
      "text/plain": [
       "   Year Recipients Total_costs Cost_per_Recipient Recipients_num\n",
       "1  2003 4267573    36142075737 8469               4267573       \n",
       "2  2004 4594667    38926018824 8472               4594667       \n",
       "3  2005 4733617    40803778540 8620               4733617       \n",
       "4  2006 4730167    40712547369 8607               4730167       \n",
       "5  2007 4622782    42127412366 9113               4622782       \n",
       "6  2008 4657242    44239141758 9499               4657242       \n",
       "7  2009 4911408    47021820192 9574               4911408       \n",
       "8  2010 5212444    49221108692 9443               5212444       \n",
       "9  2011 5398722    49975969554 9257               5398722       \n",
       "10 2012 5598237    49734737508 8884               5598237       \n",
       "11 2013 5805282    49461002640 8520               5805282       \n",
       "12 2014 6327708    52595908896 8312               6327708       \n",
       "13 2015 6700524    55647851820 8305               6700524       "
      ]
     },
     "metadata": {},
     "output_type": "display_data"
    },
    {
     "data": {
      "text/html": [
       "<table>\n",
       "<thead><tr><th scope=col>Year</th><th scope=col>Recipients</th><th scope=col>Total_costs</th><th scope=col>Cost_per_Recipient</th><th scope=col>Recipients_num</th></tr></thead>\n",
       "<tbody>\n",
       "\t<tr><td>2003       </td><td>4267573    </td><td>36142075737</td><td>8469       </td><td>4267573    </td></tr>\n",
       "\t<tr><td>2004       </td><td>4594667    </td><td>38926018824</td><td>8472       </td><td>4594667    </td></tr>\n",
       "\t<tr><td>2005       </td><td>4733617    </td><td>40803778540</td><td>8620       </td><td>4733617    </td></tr>\n",
       "\t<tr><td>2006       </td><td>4730167    </td><td>40712547369</td><td>8607       </td><td>4730167    </td></tr>\n",
       "\t<tr><td>2007       </td><td>4622782    </td><td>42127412366</td><td>9113       </td><td>4622782    </td></tr>\n",
       "\t<tr><td>2008       </td><td>4657242    </td><td>44239141758</td><td>9499       </td><td>4657242    </td></tr>\n",
       "</tbody>\n",
       "</table>\n"
      ],
      "text/latex": [
       "\\begin{tabular}{r|lllll}\n",
       " Year & Recipients & Total\\_costs & Cost\\_per\\_Recipient & Recipients\\_num\\\\\n",
       "\\hline\n",
       "\t 2003        & 4267573     & 36142075737 & 8469        & 4267573    \\\\\n",
       "\t 2004        & 4594667     & 38926018824 & 8472        & 4594667    \\\\\n",
       "\t 2005        & 4733617     & 40803778540 & 8620        & 4733617    \\\\\n",
       "\t 2006        & 4730167     & 40712547369 & 8607        & 4730167    \\\\\n",
       "\t 2007        & 4622782     & 42127412366 & 9113        & 4622782    \\\\\n",
       "\t 2008        & 4657242     & 44239141758 & 9499        & 4657242    \\\\\n",
       "\\end{tabular}\n"
      ],
      "text/markdown": [
       "\n",
       "Year | Recipients | Total_costs | Cost_per_Recipient | Recipients_num | \n",
       "|---|---|---|---|---|---|\n",
       "| 2003        | 4267573     | 36142075737 | 8469        | 4267573     | \n",
       "| 2004        | 4594667     | 38926018824 | 8472        | 4594667     | \n",
       "| 2005        | 4733617     | 40803778540 | 8620        | 4733617     | \n",
       "| 2006        | 4730167     | 40712547369 | 8607        | 4730167     | \n",
       "| 2007        | 4622782     | 42127412366 | 9113        | 4622782     | \n",
       "| 2008        | 4657242     | 44239141758 | 9499        | 4657242     | \n",
       "\n",
       "\n"
      ],
      "text/plain": [
       "  Year Recipients Total_costs Cost_per_Recipient Recipients_num\n",
       "1 2003 4267573    36142075737 8469               4267573       \n",
       "2 2004 4594667    38926018824 8472               4594667       \n",
       "3 2005 4733617    40803778540 8620               4733617       \n",
       "4 2006 4730167    40712547369 8607               4730167       \n",
       "5 2007 4622782    42127412366 9113               4622782       \n",
       "6 2008 4657242    44239141758 9499               4657242       "
      ]
     },
     "metadata": {},
     "output_type": "display_data"
    }
   ],
   "source": [
    "# As we can see, we have a dataframe with 3 columns regarding costs of the Medicaid program. We shall name this dataframe\n",
    "#medicaid. We can below convert Recipients into a numerical variable, just like Total costs. \n",
    "\n",
    "\n",
    "Recipients_num <- as.numeric(as.character(medicaid$Recipients))\n",
    "\n",
    "mutate(medicaid, Recipients_num)\n",
    "\n",
    "head(medicaid)\n"
   ]
  },
  {
   "cell_type": "markdown",
   "metadata": {},
   "source": [
    "\n",
    "\n",
    "## New variable\n",
    "\n",
    "You will now have to make a new variable called \"Cost_per_Recipient\" by dividing the variable \"Total_Costs\" by the variable \"Recipients\". You will have to use the \"pipe-operator\". You have to show the \"head\" of the dataframe."
   ]
  },
  {
   "cell_type": "code",
   "execution_count": 14,
   "metadata": {},
   "outputs": [
    {
     "data": {
      "text/html": [
       "<table>\n",
       "<thead><tr><th scope=col>Total_costs</th></tr></thead>\n",
       "<tbody>\n",
       "\t<tr><td>8469</td></tr>\n",
       "\t<tr><td>8472</td></tr>\n",
       "\t<tr><td>8620</td></tr>\n",
       "\t<tr><td>8607</td></tr>\n",
       "\t<tr><td>9113</td></tr>\n",
       "\t<tr><td>9499</td></tr>\n",
       "</tbody>\n",
       "</table>\n"
      ],
      "text/latex": [
       "\\begin{tabular}{r|l}\n",
       " Total\\_costs\\\\\n",
       "\\hline\n",
       "\t 8469\\\\\n",
       "\t 8472\\\\\n",
       "\t 8620\\\\\n",
       "\t 8607\\\\\n",
       "\t 9113\\\\\n",
       "\t 9499\\\\\n",
       "\\end{tabular}\n"
      ],
      "text/markdown": [
       "\n",
       "Total_costs | \n",
       "|---|---|---|---|---|---|\n",
       "| 8469 | \n",
       "| 8472 | \n",
       "| 8620 | \n",
       "| 8607 | \n",
       "| 9113 | \n",
       "| 9499 | \n",
       "\n",
       "\n"
      ],
      "text/plain": [
       "  Total_costs\n",
       "1 8469       \n",
       "2 8472       \n",
       "3 8620       \n",
       "4 8607       \n",
       "5 9113       \n",
       "6 9499       "
      ]
     },
     "metadata": {},
     "output_type": "display_data"
    },
    {
     "name": "stderr",
     "output_type": "stream",
     "text": [
      "ERROR while rich displaying an object: Error in vapply(part, format, character(nrow(part))): values must be type 'character',\n",
      " but FUN(X[[6]]) result is type 'list'\n",
      "\n",
      "Traceback:\n",
      "1. FUN(X[[i]], ...)\n",
      "2. tryCatch(withCallingHandlers({\n",
      " .     rpr <- mime2repr[[mime]](obj)\n",
      " .     if (is.null(rpr)) \n",
      " .         return(NULL)\n",
      " .     prepare_content(is.raw(rpr), rpr)\n",
      " . }, error = error_handler), error = outer_handler)\n",
      "3. tryCatchList(expr, classes, parentenv, handlers)\n",
      "4. tryCatchOne(expr, names, parentenv, handlers[[1L]])\n",
      "5. doTryCatch(return(expr), name, parentenv, handler)\n",
      "6. withCallingHandlers({\n",
      " .     rpr <- mime2repr[[mime]](obj)\n",
      " .     if (is.null(rpr)) \n",
      " .         return(NULL)\n",
      " .     prepare_content(is.raw(rpr), rpr)\n",
      " . }, error = error_handler)\n",
      "7. mime2repr[[mime]](obj)\n",
      "8. repr_text.data.frame(obj)\n",
      "9. ellip_limit_arr(obj, ...)\n",
      "10. arr_parts_format(parts)\n",
      "11. structure(lapply(parts, arr_part_format), omit = attr(parts, \n",
      "  .     \"omit\"))\n",
      "12. lapply(parts, arr_part_format)\n",
      "13. FUN(X[[i]], ...)\n",
      "14. vapply(part, format, character(nrow(part)))\n"
     ]
    },
    {
     "data": {},
     "metadata": {},
     "output_type": "display_data"
    },
    {
     "data": {
      "text/html": [
       "<table>\n",
       "<thead><tr><th scope=col>Year</th><th scope=col>Recipients</th><th scope=col>Total_costs</th><th scope=col>Cost_per_Recipient</th><th scope=col>Recipients_num</th></tr></thead>\n",
       "<tbody>\n",
       "\t<tr><td>2003       </td><td>4267573    </td><td>36142075737</td><td>8469       </td><td>4267573    </td></tr>\n",
       "\t<tr><td>2004       </td><td>4594667    </td><td>38926018824</td><td>8472       </td><td>4594667    </td></tr>\n",
       "\t<tr><td>2005       </td><td>4733617    </td><td>40803778540</td><td>8620       </td><td>4733617    </td></tr>\n",
       "\t<tr><td>2006       </td><td>4730167    </td><td>40712547369</td><td>8607       </td><td>4730167    </td></tr>\n",
       "\t<tr><td>2007       </td><td>4622782    </td><td>42127412366</td><td>9113       </td><td>4622782    </td></tr>\n",
       "\t<tr><td>2008       </td><td>4657242    </td><td>44239141758</td><td>9499       </td><td>4657242    </td></tr>\n",
       "</tbody>\n",
       "</table>\n"
      ],
      "text/latex": [
       "\\begin{tabular}{r|lllll}\n",
       " Year & Recipients & Total\\_costs & Cost\\_per\\_Recipient & Recipients\\_num\\\\\n",
       "\\hline\n",
       "\t 2003        & 4267573     & 36142075737 & 8469        & 4267573    \\\\\n",
       "\t 2004        & 4594667     & 38926018824 & 8472        & 4594667    \\\\\n",
       "\t 2005        & 4733617     & 40803778540 & 8620        & 4733617    \\\\\n",
       "\t 2006        & 4730167     & 40712547369 & 8607        & 4730167    \\\\\n",
       "\t 2007        & 4622782     & 42127412366 & 9113        & 4622782    \\\\\n",
       "\t 2008        & 4657242     & 44239141758 & 9499        & 4657242    \\\\\n",
       "\\end{tabular}\n"
      ],
      "text/markdown": [
       "\n",
       "Year | Recipients | Total_costs | Cost_per_Recipient | Recipients_num | \n",
       "|---|---|---|---|---|---|\n",
       "| 2003        | 4267573     | 36142075737 | 8469        | 4267573     | \n",
       "| 2004        | 4594667     | 38926018824 | 8472        | 4594667     | \n",
       "| 2005        | 4733617     | 40803778540 | 8620        | 4733617     | \n",
       "| 2006        | 4730167     | 40712547369 | 8607        | 4730167     | \n",
       "| 2007        | 4622782     | 42127412366 | 9113        | 4622782     | \n",
       "| 2008        | 4657242     | 44239141758 | 9499        | 4657242     | \n",
       "\n",
       "\n"
      ],
      "text/plain": [
       "  Year Recipients Total_costs Cost_per_Recipient Recipients_num\n",
       "1 2003 4267573    36142075737 8469               4267573       \n",
       "2 2004 4594667    38926018824 8472               4594667       \n",
       "3 2005 4733617    40803778540 8620               4733617       \n",
       "4 2006 4730167    40712547369 8607               4730167       \n",
       "5 2007 4622782    42127412366 9113               4622782       \n",
       "6 2008 4657242    44239141758 9499               4657242       "
      ]
     },
     "metadata": {},
     "output_type": "display_data"
    }
   ],
   "source": [
    "library(dplyr)\n",
    "\n",
    "Total_Costs <- medicaid %>%\n",
    "                  select(Total_costs)\n",
    "\n",
    "Recipients_num <- medicaid %>%\n",
    "                  select(Recipients_num)\n",
    "\n",
    "Costs_per_Recipient <- Total_Costs/Recipients_num\n",
    "\n",
    "head(Costs_per_Recipient)\n",
    "mutate(medicaid, Costs_per_Recipient)\n",
    "\n",
    "head(medicaid)\n"
   ]
  },
  {
   "cell_type": "markdown",
   "metadata": {},
   "source": [
    "## Plot 1\n",
    "\n",
    "Now you have to make a line plot of the data:\n",
    "\n",
    "* with Year on the x-axis\n",
    "* Cost_per_Recipient on the y-axis\n",
    "* The line should have size 3 and the color \"red\"\n",
    "* The name on the Y axis should be \"Cost per enrollee\"\n",
    "\n",
    "\n"
   ]
  },
  {
   "cell_type": "code",
   "execution_count": 20,
   "metadata": {},
   "outputs": [
    {
     "data": {},
     "metadata": {},
     "output_type": "display_data"
    },
    {
     "data": {
      "image/png": "[encoded data removed]",
      "text/plain": [
       "plot without title"
      ]
     },
     "metadata": {},
     "output_type": "display_data"
    }
   ],
   "source": [
    " my_plot <- ggplot(medicaid, aes(x=Year, y= Cost_per_Recipient))+\n",
    "            geom_line(size = 3, color = 'red')\n",
    "\n",
    "my_plot+ylab('Costs per enrollee')\n"
   ]
  },
  {
   "cell_type": "markdown",
   "metadata": {},
   "source": [
    "End of notebook"
   ]
  }
 ],
 "metadata": {
  "anaconda-cloud": {},
  "kernelspec": {
   "display_name": "R",
   "language": "R",
   "name": "ir"
  },
  "language_info": {
   "codemirror_mode": "r",
   "file_extension": ".r",
   "mimetype": "text/x-r-source",
   "name": "R",
   "pygments_lexer": "r",
   "version": "3.4.3"
  }
 },
 "nbformat": 4,
 "nbformat_minor": 1
}
